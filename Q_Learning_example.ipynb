{
  "nbformat": 4,
  "nbformat_minor": 0,
  "metadata": {
    "colab": {
      "name": "Q_Learning_example.ipynb",
      "provenance": [],
      "collapsed_sections": []
    },
    "kernelspec": {
      "name": "python3",
      "display_name": "Python 3"
    },
    "language_info": {
      "name": "python"
    }
  },
  "cells": [
    {
      "cell_type": "code",
      "metadata": {
        "id": "ceIw_hSc3b1N"
      },
      "source": [
        "import numpy as np\n",
        "import matplotlib.pyplot as plt\n",
        "from pylab import*\n",
        "import networkx as nx"
      ],
      "execution_count": 11,
      "outputs": []
    },
    {
      "cell_type": "code",
      "metadata": {
        "id": "7Ppz8mUi3o45"
      },
      "source": [
        "edges = [(0,1),(1,5),(5,6),(5,4),(1,2),\n",
        "\t\t (1,3),(9,10),(2,4),(0,6),(6,7),\n",
        "\t\t (8,9),(7,8),(1,7),(3,9),(5,8),\n",
        "     (10,11),(9,12),(9,14),(14,12),(12,11),\n",
        "     (14,11),(12,13),(13,14),(13,11),(10,13)]"
      ],
      "execution_count": 23,
      "outputs": []
    },
    {
      "cell_type": "code",
      "metadata": {
        "colab": {
          "base_uri": "https://localhost:8080/",
          "height": 248
        },
        "id": "XZ_VBbfD4E3G",
        "outputId": "5ef0e401-4ff5-43ce-8996-cc26d53e07a0"
      },
      "source": [
        "goal = 14\n",
        "G = nx.Graph()\n",
        "G.add_edges_from(edges)\n",
        "pos = nx.spring_layout(G)\n",
        "nx.draw_networkx_nodes(G,pos)\n",
        "nx.draw_networkx_labels(G,pos)\n",
        "nx.draw_networkx_edges(G,pos)\n",
        "show()"
      ],
      "execution_count": 24,
      "outputs": [
        {
          "output_type": "display_data",
          "data": {
            "image/png": "[encoded data removed]",
            "text/plain": [
              "<Figure size 432x288 with 1 Axes>"
            ]
          },
          "metadata": {}
        }
      ]
    },
    {
      "cell_type": "code",
      "metadata": {
        "id": "SuAAUwF04rKi"
      },
      "source": [
        "MATRIX_SIZE = 15\n",
        "M = np.matrix(np.ones(shape=(MATRIX_SIZE,MATRIX_SIZE)))\n",
        "M*=-1"
      ],
      "execution_count": 26,
      "outputs": []
    },
    {
      "cell_type": "code",
      "metadata": {
        "colab": {
          "base_uri": "https://localhost:8080/"
        },
        "id": "tzIKp0N95QMY",
        "outputId": "342bbc80-32f7-4a13-eea4-f27aa7878685"
      },
      "source": [
        "for point in edges:\n",
        "  print(point)\n",
        "  if point[1] == goal:\n",
        "    M[point] = 100\n",
        "  else:\n",
        "    M[point] = 0\n",
        "\n",
        "  if point[0] == goal:\n",
        "    M[point[::-1]] = 100\n",
        "  else:\n",
        "    M[point[::-1]] = 0\n",
        "\n",
        "M[goal,goal] = 100\n",
        "print(M)"
      ],
      "execution_count": 27,
      "outputs": [
        {
          "output_type": "stream",
          "name": "stdout",
          "text": [
            "(0, 1)\n",
            "(1, 5)\n",
            "(5, 6)\n",
            "(5, 4)\n",
            "(1, 2)\n",
            "(1, 3)\n",
            "(9, 10)\n",
            "(2, 4)\n",
            "(0, 6)\n",
            "(6, 7)\n",
            "(8, 9)\n",
            "(7, 8)\n",
            "(1, 7)\n",
            "(3, 9)\n",
            "(5, 8)\n",
            "(10, 11)\n",
            "(9, 12)\n",
            "(9, 14)\n",
            "(14, 12)\n",
            "(12, 11)\n",
            "(14, 11)\n",
            "(12, 13)\n",
            "(13, 14)\n",
            "(13, 11)\n",
            "(10, 13)\n",
            "[[ -1.   0.  -1.  -1.  -1.  -1.   0.  -1.  -1.  -1.  -1.  -1.  -1.  -1.\n",
            "   -1.]\n",
            " [  0.  -1.   0.   0.  -1.   0.  -1.   0.  -1.  -1.  -1.  -1.  -1.  -1.\n",
            "   -1.]\n",
            " [ -1.   0.  -1.  -1.   0.  -1.  -1.  -1.  -1.  -1.  -1.  -1.  -1.  -1.\n",
            "   -1.]\n",
            " [ -1.   0.  -1.  -1.  -1.  -1.  -1.  -1.  -1.   0.  -1.  -1.  -1.  -1.\n",
            "   -1.]\n",
            " [ -1.  -1.   0.  -1.  -1.   0.  -1.  -1.  -1.  -1.  -1.  -1.  -1.  -1.\n",
            "   -1.]\n",
            " [ -1.   0.  -1.  -1.   0.  -1.   0.  -1.   0.  -1.  -1.  -1.  -1.  -1.\n",
            "   -1.]\n",
            " [  0.  -1.  -1.  -1.  -1.   0.  -1.   0.  -1.  -1.  -1.  -1.  -1.  -1.\n",
            "   -1.]\n",
            " [ -1.   0.  -1.  -1.  -1.  -1.   0.  -1.   0.  -1.  -1.  -1.  -1.  -1.\n",
            "   -1.]\n",
            " [ -1.  -1.  -1.  -1.  -1.   0.  -1.   0.  -1.   0.  -1.  -1.  -1.  -1.\n",
            "   -1.]\n",
            " [ -1.  -1.  -1.   0.  -1.  -1.  -1.  -1.   0.  -1.   0.  -1.   0.  -1.\n",
            "  100.]\n",
            " [ -1.  -1.  -1.  -1.  -1.  -1.  -1.  -1.  -1.   0.  -1.   0.  -1.   0.\n",
            "   -1.]\n",
            " [ -1.  -1.  -1.  -1.  -1.  -1.  -1.  -1.  -1.  -1.   0.  -1.   0.   0.\n",
            "  100.]\n",
            " [ -1.  -1.  -1.  -1.  -1.  -1.  -1.  -1.  -1.   0.  -1.   0.  -1.   0.\n",
            "  100.]\n",
            " [ -1.  -1.  -1.  -1.  -1.  -1.  -1.  -1.  -1.  -1.   0.   0.   0.  -1.\n",
            "  100.]\n",
            " [ -1.  -1.  -1.  -1.  -1.  -1.  -1.  -1.  -1.   0.  -1.   0.   0.   0.\n",
            "  100.]]\n"
          ]
        }
      ]
    },
    {
      "cell_type": "code",
      "metadata": {
        "id": "Oll6dEct7cVY"
      },
      "source": [
        "gamma = 0.89\n",
        "Q = np.matrix(np.zeros(shape=(MATRIX_SIZE,MATRIX_SIZE)))"
      ],
      "execution_count": 28,
      "outputs": []
    },
    {
      "cell_type": "code",
      "metadata": {
        "id": "diuJm12p7pJ-"
      },
      "source": [
        "def Possible_state(state):\n",
        "\tcurrent_state = M[state, ]\n",
        "\tavailable_action = np.where(current_state >= 0)[1]\n",
        "\treturn (available_action) \n",
        "\n",
        "def Next_states(state_set):\n",
        "  next_state = np.random.choice(state_set)\n",
        "  return next_state\n",
        "\n",
        "def Update_Matrix(current_state,action,gamma):\n",
        "  max_index = np.where(Q[action, ] == np.max(Q[action, ]))[1]\n",
        "  if max_index.shape[0]>1:\n",
        "    max_index = int(np.random.choice(max_index,1))\n",
        "  else:\n",
        "    max_index = int(max_index)\n",
        "  \n",
        "  max_value = Q[action, max_index]\n",
        "  Q[current_state,action] = M[current_state,action] + gamma * max_value\n",
        "  \n",
        "  if (np.max(Q) > 0):\n",
        "    return np.sum(Q/np.max(Q)*100)\n",
        "  else:\n",
        "    return Q"
      ],
      "execution_count": 37,
      "outputs": []
    },
    {
      "cell_type": "code",
      "metadata": {
        "colab": {
          "base_uri": "https://localhost:8080/"
        },
        "id": "ZcMY-C8m9kfJ",
        "outputId": "781a5384-6157-4df5-a20f-0c402b48dc97"
      },
      "source": [
        "scores = []\n",
        "for i in range(2000):\n",
        "  current_state = np.random.randint(0,int(Q.shape[0]))\n",
        "  available_path = Possible_state(current_state)\n",
        "  next_path = Next_states(available_path)\n",
        "  score = Update_Matrix(current_state,next_path,gamma)\n",
        "  scores.append(score)\n",
        "\n",
        "print(Q/np.max(Q)*100)"
      ],
      "execution_count": 43,
      "outputs": [
        {
          "output_type": "stream",
          "name": "stdout",
          "text": [
            "[[  0.          70.4969       0.           0.           0.\n",
            "    0.          62.742241     0.           0.           0.\n",
            "    0.           0.           0.           0.           0.        ]\n",
            " [ 62.73706382   0.          62.742241    79.21         0.\n",
            "   70.4969       0.          70.49108295   0.           0.\n",
            "    0.           0.           0.           0.           0.        ]\n",
            " [  0.          70.4969       0.           0.          62.742241\n",
            "    0.           0.           0.           0.           0.\n",
            "    0.           0.           0.           0.           0.        ]\n",
            " [  0.          70.4969       0.           0.           0.\n",
            "    0.           0.           0.           0.          89.\n",
            "    0.           0.           0.           0.           0.        ]\n",
            " [  0.           0.          62.742241     0.           0.\n",
            "   70.4969       0.           0.           0.           0.\n",
            "    0.           0.           0.           0.           0.        ]\n",
            " [  0.          70.4969       0.           0.          62.73706382\n",
            "    0.          62.742241     0.          79.21         0.\n",
            "    0.           0.           0.           0.           0.        ]\n",
            " [ 62.742241     0.           0.           0.           0.\n",
            "   70.49108295   0.          70.4969       0.           0.\n",
            "    0.           0.           0.           0.           0.        ]\n",
            " [  0.          70.4969       0.           0.           0.\n",
            "    0.          62.73706382   0.          79.21         0.\n",
            "    0.           0.           0.           0.           0.        ]\n",
            " [  0.           0.           0.           0.           0.\n",
            "   70.49108295   0.          70.4969       0.          89.\n",
            "    0.           0.           0.           0.           0.        ]\n",
            " [  0.           0.           0.          79.21         0.\n",
            "    0.           0.           0.          79.21         0.\n",
            "   79.21         0.          88.99265616   0.         100.        ]\n",
            " [  0.           0.           0.           0.           0.\n",
            "    0.           0.           0.           0.          89.\n",
            "    0.          89.           0.          89.           0.        ]\n",
            " [  0.           0.           0.           0.           0.\n",
            "    0.           0.           0.           0.           0.\n",
            "   79.21         0.          88.96471606  88.99265616 100.        ]\n",
            " [  0.           0.           0.           0.           0.\n",
            "    0.           0.           0.           0.          89.\n",
            "    0.          88.97513331   0.          89.         100.        ]\n",
            " [  0.           0.           0.           0.           0.\n",
            "    0.           0.           0.           0.           0.\n",
            "   79.21        89.          88.99265616   0.         100.        ]\n",
            " [  0.           0.           0.           0.           0.\n",
            "    0.           0.           0.           0.          89.\n",
            "    0.          89.          88.99265616  89.         100.        ]]\n"
          ]
        }
      ]
    },
    {
      "cell_type": "code",
      "metadata": {
        "colab": {
          "base_uri": "https://localhost:8080/"
        },
        "id": "85sjTzFN-Lq4",
        "outputId": "ad3aaabb-8fec-4e67-9325-ce9ceed75fd7"
      },
      "source": [
        "current_state = 0\n",
        "path = []\n",
        "while current_state!=14:\n",
        "  next_index = np.where(Q[current_state, ] == np.max(Q[current_state, ]))[1]\n",
        "  if next_index.shape[0]>1:\n",
        "    next_index = int(np.random.choice(next_index,1))\n",
        "  else:\n",
        "    next_index = int(next_index)\n",
        "  \n",
        "  path.append(next_index)\n",
        "  current_state = next_index\n",
        "print(path)"
      ],
      "execution_count": 51,
      "outputs": [
        {
          "output_type": "stream",
          "name": "stdout",
          "text": [
            "[1, 3, 9, 14]\n"
          ]
        }
      ]
    },
    {
      "cell_type": "code",
      "metadata": {
        "colab": {
          "base_uri": "https://localhost:8080/",
          "height": 248
        },
        "id": "o6bft0_QAESn",
        "outputId": "21e837e2-c56b-40c2-864e-3500462d9ef7"
      },
      "source": [
        "goal = 14\n",
        "G = nx.Graph()\n",
        "G.add_edges_from(edges)\n",
        "pos = nx.spring_layout(G)\n",
        "nx.draw_networkx_nodes(G,pos)\n",
        "nx.draw_networkx_labels(G,pos)\n",
        "nx.draw_networkx_edges(G,pos)\n",
        "show()"
      ],
      "execution_count": 45,
      "outputs": [
        {
          "output_type": "display_data",
          "data": {
            "image/png": "[encoded data removed]",
            "text/plain": [
              "<Figure size 432x288 with 1 Axes>"
            ]
          },
          "metadata": {}
        }
      ]
    },
    {
      "cell_type": "code",
      "metadata": {
        "id": "kSlQlEdPAMHe"
      },
      "source": [
        ""
      ],
      "execution_count": null,
      "outputs": []
    }
  ]
}